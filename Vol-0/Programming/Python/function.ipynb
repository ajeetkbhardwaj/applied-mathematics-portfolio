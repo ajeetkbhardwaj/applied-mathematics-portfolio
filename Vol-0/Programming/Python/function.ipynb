{
 "cells": [
  {
   "cell_type": "markdown",
   "metadata": {},
   "source": [
    "What is function ?\n",
    "a block of statements that return the specific task.\n",
    "\n",
    "Benefits of functions ?\n",
    "code readability and reusability increases\n",
    "\n",
    "![alt text](image.png)\n",
    "\n",
    "Types of functions\n",
    "1. Build-in functions\n",
    "2. User-defined functions\n",
    "\n"
   ]
  },
  {
   "cell_type": "code",
   "execution_count": 1,
   "metadata": {},
   "outputs": [],
   "source": [
    "# How to create a function\n",
    "def fun():\n",
    "    print(\"Welcome to Python function world!\")"
   ]
  },
  {
   "cell_type": "code",
   "execution_count": 2,
   "metadata": {},
   "outputs": [
    {
     "name": "stdout",
     "output_type": "stream",
     "text": [
      "Welcome to Python function world!\n"
     ]
    }
   ],
   "source": [
    "# How to call a function ?\n",
    "fun()"
   ]
  },
  {
   "cell_type": "code",
   "execution_count": 3,
   "metadata": {},
   "outputs": [],
   "source": [
    "# How to create the function with parameters\n",
    "def add_int(n1, n2):\n",
    "   \"\"\"Addition of two numbers n1 and n1\"\"\"\n",
    "   n3 = n1 + n2\n",
    "   return n3\n",
    "\n",
    "def is_prime(n):\n",
    "   if n is [2, 3]:\n",
    "      return True\n",
    "   if (n==1) or (n%2 == 0):\n",
    "      return False\n",
    "   r = 3\n",
    "   while r * r <= n:\n",
    "      if n%r == 0:\n",
    "         return False\n",
    "      r += 2\n",
    "      return True\n",
    "\n",
    "def is_evenOdd(n):\n",
    "   if n%2 == 0:\n",
    "       print(f\"The number {n} is even number\")\n",
    "   else:\n",
    "       print(f\"The number {n} is odd number\")\n",
    "\n"
   ]
  },
  {
   "cell_type": "code",
   "execution_count": 4,
   "metadata": {},
   "outputs": [
    {
     "name": "stdout",
     "output_type": "stream",
     "text": [
      "The sum of 23 and 84 is equal to 107\n"
     ]
    }
   ],
   "source": [
    "# Problem : add two integer numbers\n",
    "n1 = 23\n",
    "n2 = 84\n",
    "ans = add_int(n1, n2)\n",
    "print(f\"The sum of {n1} and {n2} is equal to {ans}\")"
   ]
  },
  {
   "cell_type": "code",
   "execution_count": 7,
   "metadata": {},
   "outputs": [
    {
     "name": "stdout",
     "output_type": "stream",
     "text": [
      "x is scaled by some constant gives 1710\n",
      "Ajeet Kumar\n",
      "\n",
      " Ajeet Kumar\n",
      "Student name is None\n",
      "Hi, I am Ajeet Kumar\n",
      "My age is 23\n",
      "None\n",
      "Hi, I am 83\n",
      "My age is Twenty Three\n",
      "None\n",
      "Hello Ajeet\n",
      "Welcome to BHU\n",
      "first == Ajeet\n",
      "mid == for\n",
      "last == BHU\n"
     ]
    }
   ],
   "source": [
    "# Function arguments\n",
    "# 1. default arguments\n",
    "def fun1(x, y=90):\n",
    "    z = y*x\n",
    "    return z\n",
    "print(f\"x is scaled by some constant gives {fun1(19)}\")\n",
    "\n",
    "# 2. Keyward arguments\n",
    "def student_name(fname, lname):\n",
    "    print(fname, lname)\n",
    "    print(\"\\n\", fname + \" \" + lname)\n",
    "\n",
    "first = \"Ajeet\"\n",
    "last = \"Kumar\"\n",
    "\n",
    "print(f\"Student name is {student_name(first, last)}\")\n",
    "\n",
    "# 3. Positional arguments\n",
    "def student_age(name, age):\n",
    "    print(f\"Hi, I am {name}\")\n",
    "    print(f\"My age is {age}\")\n",
    "name = \"Ajeet Kumar\"\n",
    "age = 23\n",
    "\n",
    "print(student_age(name, age))\n",
    "name = 83\n",
    "age = \"Twenty Three\"\n",
    "print(student_age(name, age))\n",
    "\n",
    "# 4. Arbitary Keyward Arguments\n",
    "# *args(non-keywords), **kwargs(keywords)\n",
    "\n",
    "def fun2(*argv):\n",
    "    for arg in argv:\n",
    "        print(arg)\n",
    "\n",
    "fun2(\"Hello Ajeet\", \"Welcome to BHU\")\n",
    "\n",
    "def fun3(**kwargs):\n",
    "    for key, value in kwargs.items():\n",
    "        print(\"%s == %s\" % (key, value))\n",
    "\n",
    "fun3(first='Ajeet', mid = 'for', last='BHU')\n"
   ]
  },
  {
   "cell_type": "code",
   "execution_count": null,
   "metadata": {},
   "outputs": [],
   "source": [
    "# How to write nested function\n",
    "def fun4():\n",
    "    s = \"I love you Ajeet\"\n",
    "    def fun5():\n",
    "        print(s)\n",
    "\n",
    "fun4()"
   ]
  },
  {
   "cell_type": "code",
   "execution_count": null,
   "metadata": {},
   "outputs": [],
   "source": [
    "# How to write anonymous functions\n",
    "def cube(x): return x*x*x\n",
    "\n",
    "# How to use lambda function to write anonymous function\n",
    "cube1 = lambda x: x*x*x"
   ]
  },
  {
   "cell_type": "code",
   "execution_count": 1,
   "metadata": {},
   "outputs": [
    {
     "name": "stdout",
     "output_type": "stream",
     "text": [
      "[('Bob', 20), ('Charlie', 23), ('Alice', 25)]\n"
     ]
    }
   ],
   "source": [
    "# Using lambda with sorted\n",
    "students = [(\"Alice\", 25), (\"Bob\", 20), (\"Charlie\", 23)]\n",
    "sorted_students = sorted(students, key=lambda x: x[1])  # Sort by age\n",
    "print(sorted_students)"
   ]
  },
  {
   "cell_type": "code",
   "execution_count": 2,
   "metadata": {},
   "outputs": [
    {
     "name": "stdout",
     "output_type": "stream",
     "text": [
      "5\n",
      "5\n",
      "[1, 1, 3, 4, 5]\n"
     ]
    }
   ],
   "source": [
    "# Examples of built-in functions\n",
    "numbers = [3, 1, 4, 1, 5]\n",
    "print(len(numbers))  # Output: 5\n",
    "print(max(numbers))  # Output: 5\n",
    "print(sorted(numbers))  # Output: [1, 1, 3, 4, 5]"
   ]
  },
  {
   "cell_type": "code",
   "execution_count": 5,
   "metadata": {},
   "outputs": [
    {
     "name": "stdout",
     "output_type": "stream",
     "text": [
      "120\n"
     ]
    }
   ],
   "source": [
    "# How to write recursive function in python\n",
    "\n",
    "def factorial(n):\n",
    "    if n==0:\n",
    "        return 1\n",
    "    else:\n",
    "        return n * factorial(n-1)\n",
    "    \n",
    "print(factorial(5))  # Output: 120   "
   ]
  },
  {
   "cell_type": "code",
   "execution_count": null,
   "metadata": {},
   "outputs": [],
   "source": []
  }
 ],
 "metadata": {
  "kernelspec": {
   "display_name": "base",
   "language": "python",
   "name": "python3"
  },
  "language_info": {
   "codemirror_mode": {
    "name": "ipython",
    "version": 3
   },
   "file_extension": ".py",
   "mimetype": "text/x-python",
   "name": "python",
   "nbconvert_exporter": "python",
   "pygments_lexer": "ipython3",
   "version": "3.8.5"
  }
 },
 "nbformat": 4,
 "nbformat_minor": 2
}
