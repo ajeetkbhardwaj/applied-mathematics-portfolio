{
 "cells": [
  {
   "cell_type": "markdown",
   "metadata": {},
   "source": []
  },
  {
   "cell_type": "code",
   "execution_count": 12,
   "metadata": {},
   "outputs": [
    {
     "name": "stdout",
     "output_type": "stream",
     "text": [
      "4.0\n",
      "3.141592653589793\n",
      "120\n",
      "6\n"
     ]
    }
   ],
   "source": [
    "# Using the math module\n",
    "import math\n",
    "\n",
    "print(math.sqrt(16))  # Output: 4.0\n",
    "print(math.pi)        # Output: 3.141592653589793\n",
    "\n",
    "# Using specific functions from a module\n",
    "from math import factorial, gcd\n",
    "\n",
    "print(factorial(5))  # Output: 120\n",
    "print(gcd(48, 18))   # Output: 6"
   ]
  },
  {
   "cell_type": "code",
   "execution_count": null,
   "metadata": {},
   "outputs": [
    {
     "ename": "ModuleNotFoundError",
     "evalue": "No module named 'module.arith'; 'module' is not a package",
     "output_type": "error",
     "traceback": [
      "\u001b[1;31m---------------------------------------------------------------------------\u001b[0m",
      "\u001b[1;31mModuleNotFoundError\u001b[0m                       Traceback (most recent call last)",
      "Cell \u001b[1;32mIn[22], line 1\u001b[0m\n\u001b[1;32m----> 1\u001b[0m \u001b[38;5;28;01mimport\u001b[39;00m \u001b[38;5;21;01mmodule\u001b[39;00m\u001b[38;5;21;01m.\u001b[39;00m\u001b[38;5;21;01marith\u001b[39;00m\n",
      "\u001b[1;31mModuleNotFoundError\u001b[0m: No module named 'module.arith'; 'module' is not a package"
     ]
    }
   ],
   "source": []
  },
  {
   "cell_type": "code",
   "execution_count": 26,
   "metadata": {},
   "outputs": [
    {
     "ename": "ModuleNotFoundError",
     "evalue": "No module named 'module.arith'; 'module' is not a package",
     "output_type": "error",
     "traceback": [
      "\u001b[1;31m---------------------------------------------------------------------------\u001b[0m",
      "\u001b[1;31mModuleNotFoundError\u001b[0m                       Traceback (most recent call last)",
      "Cell \u001b[1;32mIn[26], line 1\u001b[0m\n\u001b[1;32m----> 1\u001b[0m \u001b[38;5;28;01mfrom\u001b[39;00m \u001b[38;5;21;01mmodule\u001b[39;00m\u001b[38;5;21;01m.\u001b[39;00m\u001b[38;5;21;01marith\u001b[39;00m \u001b[38;5;28;01mimport\u001b[39;00m factorial, add_int\n\u001b[0;32m      2\u001b[0m \u001b[38;5;28;01mfrom\u001b[39;00m \u001b[38;5;21;01mmodule\u001b[39;00m\u001b[38;5;21;01m.\u001b[39;00m\u001b[38;5;21;01marith\u001b[39;00m \u001b[38;5;28;01mimport\u001b[39;00m is_evenOdd, is_prime\n\u001b[0;32m      3\u001b[0m \u001b[38;5;28;01mfrom\u001b[39;00m \u001b[38;5;21;01mmodule\u001b[39;00m\u001b[38;5;21;01m.\u001b[39;00m\u001b[38;5;21;01marith\u001b[39;00m \u001b[38;5;28;01mimport\u001b[39;00m add, subtract, multiply, divide\n",
      "\u001b[1;31mModuleNotFoundError\u001b[0m: No module named 'module.arith'; 'module' is not a package"
     ]
    }
   ],
   "source": [
    "from module.arith import factorial, add_int\n",
    "from module.arith import is_evenOdd, is_prime\n",
    "from module.arith import add, subtract, multiply, divide\n",
    "\n",
    "a = 93\n",
    "b = 38\n",
    "n = 10\n",
    "print(factorial(n))\n",
    "print(add_int(a, b))\n",
    "print(add(10, 5))         # Output: 15\n",
    "print(subtract(10, 5))    # Output: 5\n",
    "print(multiply(10, 5))    # Output: 50\n",
    "print(divide(10, 5))      # Output: 2.0"
   ]
  },
  {
   "cell_type": "code",
   "execution_count": 16,
   "metadata": {},
   "outputs": [
    {
     "ename": "ModuleNotFoundError",
     "evalue": "No module named 'module.geom'; 'module' is not a package",
     "output_type": "error",
     "traceback": [
      "\u001b[1;31m---------------------------------------------------------------------------\u001b[0m",
      "\u001b[1;31mModuleNotFoundError\u001b[0m                       Traceback (most recent call last)",
      "Cell \u001b[1;32mIn[16], line 1\u001b[0m\n\u001b[1;32m----> 1\u001b[0m \u001b[38;5;28;01mfrom\u001b[39;00m \u001b[38;5;21;01mmodule\u001b[39;00m\u001b[38;5;21;01m.\u001b[39;00m\u001b[38;5;21;01mgeom\u001b[39;00m \u001b[38;5;28;01mimport\u001b[39;00m rectangle_area, circle_area\n\u001b[0;32m      2\u001b[0m \u001b[38;5;28;01mfrom\u001b[39;00m \u001b[38;5;21;01mmodule\u001b[39;00m\u001b[38;5;21;01m.\u001b[39;00m\u001b[38;5;21;01mgeom\u001b[39;00m \u001b[38;5;28;01mimport\u001b[39;00m rectangle_perimeter, circle_perimeter\n\u001b[0;32m      4\u001b[0m \u001b[38;5;66;03m# Area calculations\u001b[39;00m\n",
      "\u001b[1;31mModuleNotFoundError\u001b[0m: No module named 'module.geom'; 'module' is not a package"
     ]
    }
   ],
   "source": [
    "from module.geom import rectangle_area, circle_area\n",
    "from module.geom import rectangle_perimeter, circle_perimeter\n",
    "\n",
    "# Area calculations\n",
    "print(f\"Rectangle Area: {rectangle_area(5, 10)}\")  # Output: Rectangle Area: 50\n",
    "print(f\"Circle Area: {circle_area(7)}\")      # Output: Circle Area: 153.86\n",
    "\n",
    "# Perimeter calculations\n",
    "print(f\"Rectangle Perimeter: {rectangle_perimeter(5, 10)}\")  # Output: Rectangle Perimeter: 30\n",
    "print(f\"Circle Perimeter: {circle_perimeter(7)}\")            # Output: Circle Perimeter: 43.96"
   ]
  },
  {
   "cell_type": "code",
   "execution_count": null,
   "metadata": {},
   "outputs": [],
   "source": [
    "import module.temp\n",
    "\n",
    "# Input from user\n",
    "choice = input(\"Choose conversion (1: C to F, 2: F to C, 3: C to K, 4: K to C): \")\n",
    "\n",
    "if choice == \"1\":\n",
    "    celsius = float(input(\"Enter temperature in Celsius: \"))\n",
    "    print(f\"Temperature in Fahrenheit: {temperature.celsius_to_fahrenheit(celsius)}\")\n",
    "elif choice == \"2\":\n",
    "    fahrenheit = float(input(\"Enter temperature in Fahrenheit: \"))\n",
    "    print(f\"Temperature in Celsius: {temperature.fahrenheit_to_celsius(fahrenheit)}\")\n",
    "elif choice == \"3\":\n",
    "    celsius = float(input(\"Enter temperature in Celsius: \"))\n",
    "    print(f\"Temperature in Kelvin: {temperature.celsius_to_kelvin(celsius)}\")\n",
    "elif choice == \"4\":\n",
    "    kelvin = float(input(\"Enter temperature in Kelvin: \"))\n",
    "    print(f\"Temperature in Celsius: {temperature.kelvin_to_celsius(kelvin)}\")\n",
    "else:\n",
    "    print(\"Invalid choice!\")"
   ]
  }
 ],
 "metadata": {
  "kernelspec": {
   "display_name": "base",
   "language": "python",
   "name": "python3"
  },
  "language_info": {
   "codemirror_mode": {
    "name": "ipython",
    "version": 3
   },
   "file_extension": ".py",
   "mimetype": "text/x-python",
   "name": "python",
   "nbconvert_exporter": "python",
   "pygments_lexer": "ipython3",
   "version": "3.8.5"
  }
 },
 "nbformat": 4,
 "nbformat_minor": 2
}
